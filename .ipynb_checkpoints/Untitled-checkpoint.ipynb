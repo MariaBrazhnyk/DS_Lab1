{
 "cells": [
  {
   "cell_type": "code",
   "execution_count": 1,
   "metadata": {},
   "outputs": [
    {
     "name": "stdout",
     "output_type": "stream",
     "text": [
      "loading vhi_22.csv\n",
      "loading vhi_24.csv\n",
      "loading vhi_23.csv\n",
      "loading vhi_25.csv\n",
      "loading vhi_3.csv\n",
      "loading vhi_4.csv\n",
      "loading vhi_8.csv\n",
      "loading vhi_19.csv\n",
      "loading vhi_20.csv\n",
      "loading vhi_21.csv\n",
      "loading vhi_9.csv\n",
      "loading vhi_10.csv\n",
      "loading vhi_11.csv\n",
      "loading vhi_12.csv\n",
      "loading vhi_13.csv\n",
      "loading vhi_14.csv\n",
      "loading vhi_15.csv\n",
      "loading vhi_16.csv\n",
      "loading vhi_17.csv\n",
      "loading vhi_18.csv\n",
      "loading vhi_6.csv\n",
      "loading vhi_1.csv\n",
      "loading vhi_2.csv\n",
      "loading vhi_7.csv\n",
      "loading vhi_5.csv\n"
     ]
    }
   ],
   "source": [
    "from urllib import request\n",
    "\n",
    "def preprocess_raw_data(line):  \n",
    "    if '/' in line:\n",
    "        return ''         \n",
    "    line = line.replace(' ', ',',2)   \n",
    "    return (line + '\\n') \n",
    "\n",
    "def loadVHI(): \n",
    "    url = \"https://www.star.nesdis.noaa.gov/smcd/emb/vci/VH/get_provinceData.php?country=UKR&provinceID={}&year1=1981&year2=2019&type=Mean\"\n",
    "    base_filename = \"vhi_\" \n",
    "    for i in range(1, 28): \n",
    "        if i == 12 or i == 20: #если Киев,Севастополь, то пропускаем их\n",
    "            continue\n",
    "        j = swap_id(i) #меняем индексы областей\n",
    "        print('{}{}{}'.format('loading vhi_', j, '.csv'))   \n",
    "        local_url = url.format(str(i)) \n",
    "        response = request.urlopen(local_url)\n",
    "        csv = response.read() # read() возвращает двоичные данные\n",
    "        csv_str = str(csv)     \n",
    "        lines = csv_str.split(\"\\\\n\")  #разбиваем строку на части и возвращаем эти части списком\n",
    "        with open(base_filename + str(j) + \".csv\", \"w\") as fx:  \n",
    "            fx.write(\"year,week,SMN,SMT,VCI,TCI,VHI\\n\")\n",
    "            for line in lines:   \n",
    "                fx.write(preprocess_raw_data(line)) \n",
    "                \n",
    "\n",
    "def swap_id(i): \n",
    "    my_dict = { \n",
    "    1:22,\n",
    "    2:24,\n",
    "    3:23,\n",
    "    4:25,\n",
    "    5:3,\n",
    "    6:4,\n",
    "    7:8,\n",
    "    8:19,\n",
    "    9:20,\n",
    "    10:21,\n",
    "    11:9,\n",
    "    13:10,\n",
    "    14:11,\n",
    "    15:12,\n",
    "    16:13,\n",
    "    17:14,\n",
    "    18:15,\n",
    "    19:16,\n",
    "    21:17,\n",
    "    22:18,\n",
    "    23:6,\n",
    "    24:1,\n",
    "    25:2,\n",
    "    26:7,\n",
    "    27:5\n",
    "}\n",
    "    return my_dict[i]\n",
    "\n",
    "loadVHI()\n",
    "\n"
   ]
  },
  {
   "cell_type": "code",
   "execution_count": null,
   "metadata": {},
   "outputs": [],
   "source": [
    "import pandas as pd\n",
    "name='vhi_{}.csv'\n",
    "df = pd.DataFrame()\n",
    "for i in range(1, 26):\n",
    "    temp = pd.read_csv(name.format(i), sep='[, ]+', engine='python')\n",
    "    temp['Province'] = i\n",
    "    df = df.append(temp, ignore_index=True)\n",
    "\n",
    "\n",
    "\n",
    "def getByProvinceAndYear(province, year): \n",
    "    return df[(df['Province'] == province) & (df['year'] == year)][['year','VHI']]\n",
    "\n",
    "recSeries = getByProvinceAndYear(4, 1994)\n",
    "\n",
    "def getYearsInRestrictions(province, minVHI, maxVHI, procent): \n",
    "    years = df['year'].unique() \n",
    "    result = [] \n",
    "    for year in years:\n",
    "        series = getByProvinceAndYear(province, year) \n",
    "        count_in_range = series[(series >= minVHI) & (series <= maxVHI)].count() \n",
    "        procent_in_range = count_in_range * 100 / series.count() #находим наш процент\n",
    "        if procent_in_range >= procent: \n",
    "            result.append(year)\n",
    "    return result\n",
    "\n",
    "# print(recSeries.min())\n",
    "# print(recSeries.max())\n",
    "\n",
    "\n",
    "#getByProvinceAndYear(4,2015)\n",
    "# getYearsInRestrictions(5,15,35,3)\n",
    "#вывести неделю, при которой занчение максимальное\n",
    "\n",
    "\n",
    "\n"
   ]
  },
  {
   "cell_type": "code",
   "execution_count": 3,
   "metadata": {},
   "outputs": [],
   "source": [
    "def get(province):\n",
    "    temp1 = df['year'].unique()\n",
    "    temp2 = []\n",
    "    temp3 = []\n",
    "    for year in temp1:\n",
    "        sr = getByProvinceAndYear(province, year)\n",
    "        temp2.append(sr[sr['year'] == year]['VHI'].max())\n",
    "        temp3.append(sr[sr['year'] == year]['VHI'].min())\n",
    "    fr = pd.DataFrame({'YEAR': temp1, 'MAX_VHI': temp2, 'MIN_VHI': temp3})\n",
    "    return fr"
   ]
  },
  {
   "cell_type": "code",
   "execution_count": null,
   "metadata": {},
   "outputs": [],
   "source": [
    "weeks1 = df['week'].unique()\n",
    "Month = []\n",
    "Week = []\n",
    "VHI = []\n",
    "Year = []\n",
    "for week in weeks1:\n",
    "    month = week // 4.34 + 1\n",
    "#     Year.append(2019)\n",
    "#     Month.append(Month)\n",
    "#     Week.append(week)\n",
    "#     y2019 = df[(df['week'] == week) & (df['year'] == 2019)]['VHI']\n",
    "#     VHI.append(y2019)\n",
    "df3 = pd.DataFrame({'Month': Month})"
   ]
  },
  {
   "cell_type": "code",
   "execution_count": null,
   "metadata": {},
   "outputs": [],
   "source": [
    "res = df.groupby(['Province', 'year'])\n",
    "\n",
    "# res = df.groupby(by = ['year', 'Province'], as_index=False)['VHI'].min()\n",
    "# print(res)\n",
    "res.agg({'VHI':[ np.max]})"
   ]
  },
  {
   "cell_type": "code",
   "execution_count": 1,
   "metadata": {},
   "outputs": [
    {
     "ename": "NameError",
     "evalue": "name 'df' is not defined",
     "output_type": "error",
     "traceback": [
      "\u001b[1;31m---------------------------------------------------------------------------\u001b[0m",
      "\u001b[1;31mNameError\u001b[0m                                 Traceback (most recent call last)",
      "\u001b[1;32m<ipython-input-1-2b179762b755>\u001b[0m in \u001b[0;36m<module>\u001b[1;34m\u001b[0m\n\u001b[1;32m----> 1\u001b[1;33m \u001b[0mweeks\u001b[0m \u001b[1;33m=\u001b[0m \u001b[0mdf\u001b[0m\u001b[1;33m[\u001b[0m\u001b[1;34m'week'\u001b[0m\u001b[1;33m]\u001b[0m\u001b[1;33m.\u001b[0m\u001b[0munique\u001b[0m\u001b[1;33m(\u001b[0m\u001b[1;33m)\u001b[0m\u001b[1;33m\u001b[0m\u001b[1;33m\u001b[0m\u001b[0m\n\u001b[0m\u001b[0;32m      2\u001b[0m \u001b[0mMonth\u001b[0m \u001b[1;33m=\u001b[0m \u001b[1;33m[\u001b[0m\u001b[1;33m]\u001b[0m\u001b[1;33m\u001b[0m\u001b[1;33m\u001b[0m\u001b[0m\n\u001b[0;32m      3\u001b[0m \u001b[0mWeek\u001b[0m \u001b[1;33m=\u001b[0m \u001b[1;33m[\u001b[0m\u001b[1;33m]\u001b[0m\u001b[1;33m\u001b[0m\u001b[1;33m\u001b[0m\u001b[0m\n\u001b[0;32m      4\u001b[0m \u001b[0mVHI\u001b[0m \u001b[1;33m=\u001b[0m \u001b[1;33m[\u001b[0m\u001b[1;33m]\u001b[0m\u001b[1;33m\u001b[0m\u001b[1;33m\u001b[0m\u001b[0m\n\u001b[0;32m      5\u001b[0m \u001b[0mYear\u001b[0m \u001b[1;33m=\u001b[0m \u001b[1;33m[\u001b[0m\u001b[1;33m]\u001b[0m\u001b[1;33m\u001b[0m\u001b[1;33m\u001b[0m\u001b[0m\n",
      "\u001b[1;31mNameError\u001b[0m: name 'df' is not defined"
     ]
    }
   ],
   "source": [
    "weeks = df['week'].unique()\n",
    "Month = []\n",
    "Week = []\n",
    "VHI = []\n",
    "Year = []\n",
    "for week in weeks:\n",
    "    month = week // 4.34 + 1\n",
    "    Year.append(2019)\n",
    "    Month.append(Month)\n",
    "    Week.append(week)\n",
    "    y2019 = df[(df['week'] == week) & (df['year'] == 2019)]['VHI']\n",
    "    VHI.append(y2019)\n",
    "df3 = pd.DataFrame({'Year': Year, 'Month': Month, 'Week': Week, 'VHI': VHI})"
   ]
  },
  {
   "cell_type": "code",
   "execution_count": null,
   "metadata": {},
   "outputs": [],
   "source": [
    "3+5"
   ]
  },
  {
   "cell_type": "code",
   "execution_count": null,
   "metadata": {},
   "outputs": [],
   "source": []
  }
 ],
 "metadata": {
  "kernelspec": {
   "display_name": "Python 3",
   "language": "python",
   "name": "python3"
  },
  "language_info": {
   "codemirror_mode": {
    "name": "ipython",
    "version": 3
   },
   "file_extension": ".py",
   "mimetype": "text/x-python",
   "name": "python",
   "nbconvert_exporter": "python",
   "pygments_lexer": "ipython3",
   "version": "3.7.6"
  }
 },
 "nbformat": 4,
 "nbformat_minor": 2
}
